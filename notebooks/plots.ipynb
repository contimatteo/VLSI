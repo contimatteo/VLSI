{
 "cells": [
  {
   "cell_type": "markdown",
   "metadata": {},
   "source": [
    "## Setup"
   ]
  },
  {
   "cell_type": "markdown",
   "metadata": {},
   "source": [
    "### Import Libraries"
   ]
  },
  {
   "cell_type": "code",
   "execution_count": null,
   "metadata": {},
   "outputs": [],
   "source": [
    "%matplotlib inline\n",
    "\n",
    "from typing import List\n",
    "\n",
    "import warnings\n",
    "import numpy as np\n",
    "import pandas as pd\n",
    "import matplotlib\n",
    "import matplotlib.pyplot as plt\n",
    "import seaborn as sns\n",
    "\n",
    "from pathlib import Path\n",
    "from matplotlib.ticker import ScalarFormatter"
   ]
  },
  {
   "cell_type": "code",
   "execution_count": null,
   "metadata": {},
   "outputs": [],
   "source": [
    "warnings.filterwarnings(\"ignore\")\n",
    "\n",
    "matplotlib.rcParams['savefig.dpi'] = 300\n",
    "matplotlib.rcParams[\"figure.dpi\"] = 300"
   ]
  },
  {
   "cell_type": "markdown",
   "metadata": {},
   "source": [
    "### Env Setup"
   ]
  },
  {
   "cell_type": "code",
   "execution_count": null,
   "metadata": {},
   "outputs": [],
   "source": [
    "ROOT_DIR = Path()\n",
    "CSV_DIR = Path().joinpath(\"csv_generator\")\n",
    "CSV_RESULTS_FILE_URL = CSV_DIR.joinpath(\"results.csv\")\n",
    "\n",
    "assert CSV_RESULTS_FILE_URL.exists()\n",
    "assert CSV_RESULTS_FILE_URL.is_file()"
   ]
  },
  {
   "cell_type": "markdown",
   "metadata": {},
   "source": [
    "## CSV Loading"
   ]
  },
  {
   "cell_type": "code",
   "execution_count": null,
   "metadata": {},
   "outputs": [],
   "source": [
    "df = pd.read_csv(CSV_RESULTS_FILE_URL)"
   ]
  },
  {
   "cell_type": "code",
   "execution_count": null,
   "metadata": {},
   "outputs": [],
   "source": [
    "# df.head(15)"
   ]
  },
  {
   "cell_type": "markdown",
   "metadata": {},
   "source": [
    "## Utils Functions"
   ]
  },
  {
   "cell_type": "code",
   "execution_count": null,
   "metadata": {},
   "outputs": [],
   "source": [
    "def prepare_plot_data(dfs: List[pd.DataFrame]) -> list:\n",
    "    data = []\n",
    "\n",
    "    for df in dfs:\n",
    "        assert df.shape[0] > 0 and df.shape[0] <= 40\n",
    "\n",
    "    for df in dfs:\n",
    "        x, y = list(range(0, 40)), []\n",
    "        for ins_index in x:\n",
    "            _rows = df[df.data_index == (ins_index + 1)]\n",
    "            assert _rows.shape[0] < 2\n",
    "            if _rows.shape[0] == 0:\n",
    "                y.append(300)\n",
    "            else:\n",
    "                y.append(_rows.iloc[0][\"stats_tot_time\"])\n",
    "        data.append((x, y))\n",
    "\n",
    "    return data"
   ]
  },
  {
   "cell_type": "code",
   "execution_count": null,
   "metadata": {},
   "outputs": [],
   "source": [
    "def plot(title: str, subtitle: str, width: float, data: list, labels: List[str]) -> None:\n",
    "    fig, ax = plt.subplots(1, 1, figsize=(20, 10))\n",
    "    plt.title(title)\n",
    "    fig.canvas.manager.set_window_title(subtitle)\n",
    "    fig.dpi\n",
    "\n",
    "    x_idxs = np.arange(1, 41, 1)\n",
    "    for i, [_, y] in enumerate(data):\n",
    "        bar = ax.bar(x_idxs+(width * i), y, width, label=labels[i], align='center')\n",
    "\n",
    "    ax.set_xlabel(\"Instances\")\n",
    "    ax.set_ylabel(\"Solve Time (s)\")\n",
    "    ax.set_xlim(0, 41)\n",
    "    ax.set_xticks(list(range(1, 41)))\n",
    "    ax.set_yscale('log')\n",
    "    ax.set_yticks([0.1, 1, 10, 60, 150, 300])\n",
    "    ax.get_yaxis().set_major_formatter(ScalarFormatter())\n",
    "    ax.grid(axis='y')\n",
    "    \n",
    "    ax.legend()\n",
    "    plt.show()\n",
    "\n"
   ]
  },
  {
   "cell_type": "markdown",
   "metadata": {},
   "source": [
    "## Plots"
   ]
  },
  {
   "cell_type": "code",
   "execution_count": null,
   "metadata": {},
   "outputs": [],
   "source": [
    "def df_filter(\n",
    "    technology, model, symmetry = False, cumulative = False, search = \"linear\"\n",
    ") -> pd.DataFrame:\n",
    "    return df.copy()[\n",
    "        (df.technology == technology) & \n",
    "        (df.model == model) & \n",
    "        (df.symmetry == symmetry) & \n",
    "        (df.cumulative == cumulative) &\n",
    "        (df.search == search) \n",
    "    ]"
   ]
  },
  {
   "cell_type": "markdown",
   "metadata": {},
   "source": [
    "### SMT"
   ]
  },
  {
   "cell_type": "code",
   "execution_count": null,
   "metadata": {},
   "outputs": [],
   "source": [
    "_tmp_dfs = [\n",
    "    df_filter(\"SMT\", model=\"base\"),\n",
    "    df_filter(\"SMT\", model=\"base\", symmetry=True),\n",
    "    df_filter(\"SMT\", model=\"base\", cumulative=True),\n",
    "]\n",
    "width = 0.25 # lines width/padding\n",
    "labels = [\n",
    "    \"base\", \n",
    "    \"base (symmetry)\", \n",
    "    \"base (cumulative)\"\n",
    "]\n",
    "\n",
    "plot(\"SMT\", \"SMT\", width, prepare_plot_data(_tmp_dfs), labels)"
   ]
  },
  {
   "cell_type": "code",
   "execution_count": null,
   "metadata": {},
   "outputs": [],
   "source": [
    "_tmp_dfs = [\n",
    "    df_filter(\"SMT\", model=\"rotation\"),\n",
    "    df_filter(\"SMT\", model=\"rotation\", symmetry=True),\n",
    "    df_filter(\"SMT\", model=\"rotation\", cumulative=True),\n",
    "]\n",
    "width = 0.25 # lines width/padding\n",
    "labels = [\n",
    "    \"rotation\", \n",
    "    \"rotation (symmetry)\", \n",
    "    \"rotation (cumulative)\",\n",
    "]\n",
    "\n",
    "plot(\"SMT (rotation)\", \"SMT (rotation)\", width, prepare_plot_data(_tmp_dfs), labels)"
   ]
  }
 ],
 "metadata": {
  "kernelspec": {
   "display_name": "Python 3 (ipykernel)",
   "language": "python",
   "name": "python3"
  },
  "language_info": {
   "codemirror_mode": {
    "name": "ipython",
    "version": 3
   },
   "file_extension": ".py",
   "mimetype": "text/x-python",
   "name": "python",
   "nbconvert_exporter": "python",
   "pygments_lexer": "ipython3",
   "version": "3.8.5"
  },
  "vscode": {
   "interpreter": {
    "hash": "c5a1007a9cab84fc983435ec696ac82d5f83717759e8acf9ca85039507962e07"
   }
  }
 },
 "nbformat": 4,
 "nbformat_minor": 4
}
