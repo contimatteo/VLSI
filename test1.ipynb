{
 "cells": [
  {
   "cell_type": "code",
   "execution_count": 1,
   "metadata": {
    "scrolled": false
   },
   "outputs": [
    {
     "name": "stdout",
     "output_type": "stream",
     "text": [
      "Requirement already up-to-date: iminizinc in d:\\programs\\anaconda\\lib\\site-packages (0.4)\n",
      "Requirement already satisfied, skipping upgrade: ipython in d:\\programs\\anaconda\\lib\\site-packages (from iminizinc) (7.19.0)\n",
      "Requirement already satisfied, skipping upgrade: setuptools>=18.5 in d:\\programs\\anaconda\\lib\\site-packages (from ipython->iminizinc) (50.3.1.post20201107)\n",
      "Requirement already satisfied, skipping upgrade: prompt-toolkit!=3.0.0,!=3.0.1,<3.1.0,>=2.0.0 in d:\\programs\\anaconda\\lib\\site-packages (from ipython->iminizinc) (3.0.8)\n",
      "Requirement already satisfied, skipping upgrade: pickleshare in d:\\programs\\anaconda\\lib\\site-packages (from ipython->iminizinc) (0.7.5)\n",
      "Requirement already satisfied, skipping upgrade: pygments in d:\\programs\\anaconda\\lib\\site-packages (from ipython->iminizinc) (2.7.2)\n",
      "Requirement already satisfied, skipping upgrade: traitlets>=4.2 in d:\\programs\\anaconda\\lib\\site-packages (from ipython->iminizinc) (5.0.5)\n",
      "Requirement already satisfied, skipping upgrade: backcall in d:\\programs\\anaconda\\lib\\site-packages (from ipython->iminizinc) (0.2.0)\n",
      "Requirement already satisfied, skipping upgrade: colorama; sys_platform == \"win32\" in d:\\programs\\anaconda\\lib\\site-packages (from ipython->iminizinc) (0.4.4)\n",
      "Requirement already satisfied, skipping upgrade: decorator in d:\\programs\\anaconda\\lib\\site-packages (from ipython->iminizinc) (4.4.2)\n",
      "Requirement already satisfied, skipping upgrade: jedi>=0.10 in d:\\programs\\anaconda\\lib\\site-packages (from ipython->iminizinc) (0.17.1)\n",
      "Requirement already satisfied, skipping upgrade: wcwidth in d:\\programs\\anaconda\\lib\\site-packages (from prompt-toolkit!=3.0.0,!=3.0.1,<3.1.0,>=2.0.0->ipython->iminizinc) (0.2.5)\n",
      "Requirement already satisfied, skipping upgrade: ipython-genutils in d:\\programs\\anaconda\\lib\\site-packages (from traitlets>=4.2->ipython->iminizinc) (0.2.0)\n",
      "Requirement already satisfied, skipping upgrade: parso<0.8.0,>=0.7.0 in d:\\programs\\anaconda\\lib\\site-packages (from jedi>=0.10->ipython->iminizinc) (0.7.0)\n"
     ]
    }
   ],
   "source": [
    "!pip install -U iminizinc"
   ]
  },
  {
   "cell_type": "code",
   "execution_count": 2,
   "metadata": {},
   "outputs": [
    {
     "data": {
      "application/javascript": [
       "\"use strict\";\n",
       "\n",
       "CodeMirror.defineMode(\"text/minizinc\", function(config) {\n",
       "\n",
       "  var isOperatorChar = /[+\\-*=<>\\/]/;\n",
       "\n",
       "  var keywords = {\"array\":true,\n",
       "  \"bool\":true,\n",
       "  \"case\":true,\n",
       "  \"constraint\":true,\n",
       "  \"diff\":true,\n",
       "  \"div\":true,\n",
       "  \"else\":true,\n",
       "  \"elseif\":true,\n",
       "  \"endif\":true,\n",
       "  \"enum\":true,\n",
       "  \"false\":true,\n",
       "  \"float\":true,\n",
       "  \"function\":true,\n",
       "  \"if\":true,\n",
       "  \"in\":true,\n",
       "  \"include\":true,\n",
       "  \"int\":true,\n",
       "  \"intersect\":true,\n",
       "  \"let\":true,\n",
       "  \"list\":true,\n",
       "  \"maximize\":true,\n",
       "  \"minimize\":true,\n",
       "  \"mod\":true,\n",
       "  \"not\":true,\n",
       "  \"of\":true,\n",
       "  \"op\":true,\n",
       "  \"output\":true,\n",
       "  \"par\":true,\n",
       "  \"predicate\":true,\n",
       "  \"record\":true,\n",
       "  \"satisfy\":true,\n",
       "  \"set\":true,\n",
       "  \"solve\":true,\n",
       "  \"string\":true,\n",
       "  \"subset\":true,\n",
       "  \"superset\":true,\n",
       "  \"symdiff\":true,\n",
       "  \"test\":true,\n",
       "  \"then\":true,\n",
       "  \"true\":true,\n",
       "  \"tuple\":true,\n",
       "  \"type\":true,\n",
       "  \"union\":true,\n",
       "  \"var\":true,\n",
       "  \"where\":true,\n",
       "  \"xor\":true};\n",
       "\n",
       "  var punc = \":;,.(){}[]\";\n",
       "\n",
       "  function tokenBase(stream, state) {\n",
       "    var ch = stream.next();\n",
       "    if (ch == '\"') {\n",
       "      state.tokenize.push(tokenString);\n",
       "      return tokenString(stream, state);\n",
       "    }\n",
       "    if (/[\\d\\.]/.test(ch)) {\n",
       "      if (ch == \".\") {\n",
       "        stream.match(/^[0-9]+([eE][\\-+]?[0-9]+)?/);\n",
       "      } else if (ch == \"0\") {\n",
       "        stream.match(/^[xX][0-9a-fA-F]+/) || stream.match(/^0[0-7]+/);\n",
       "      } else {\n",
       "        stream.match(/^[0-9]*\\.?[0-9]*([eE][\\-+]?[0-9]+)?/);\n",
       "      }\n",
       "      return \"number\";\n",
       "    }\n",
       "    if (ch == \"/\") {\n",
       "      if (stream.eat(\"*\")) {\n",
       "        state.tokenize.push(tokenComment);\n",
       "        return tokenComment(stream, state);\n",
       "      }\n",
       "    }\n",
       "    if (ch == \"%\") {\n",
       "      stream.skipToEnd();\n",
       "      return \"comment\";\n",
       "    }\n",
       "    if (isOperatorChar.test(ch)) {\n",
       "      stream.eatWhile(isOperatorChar);\n",
       "      return \"operator\";\n",
       "    }\n",
       "    if (punc.indexOf(ch) > -1) {\n",
       "      return \"punctuation\";\n",
       "    }\n",
       "    stream.eatWhile(/[\\w\\$_\\xa1-\\uffff]/);\n",
       "    var cur = stream.current();\n",
       "    if (keywords.propertyIsEnumerable(cur)) {\n",
       "      return \"keyword\";\n",
       "    }\n",
       "    return \"variable\";\n",
       "  }\n",
       "\n",
       "  function tokenComment(stream, state) {\n",
       "    var maybeEnd = false, ch;\n",
       "    while (ch = stream.next()) {\n",
       "      if (ch == \"/\" && maybeEnd) {\n",
       "        state.tokenize.pop();\n",
       "        break;\n",
       "      }\n",
       "      maybeEnd = (ch == \"*\");\n",
       "    }\n",
       "    return \"comment\";\n",
       "  }\n",
       "\n",
       "  function tokenUntilClosingParen() {\n",
       "    var depth = 0;\n",
       "    return function(stream, state, prev) {\n",
       "      var inner = tokenBase(stream, state, prev);\n",
       "      console.log(\"untilClosing\",inner,stream.current());\n",
       "      if (inner == \"punctuation\") {\n",
       "        if (stream.current() == \"(\") {\n",
       "          ++depth;\n",
       "        } else if (stream.current() == \")\") {\n",
       "          if (depth == 0) {\n",
       "            stream.backUp(1)\n",
       "            state.tokenize.pop()\n",
       "            return state.tokenize[state.tokenize.length - 1](stream, state)\n",
       "          } else {\n",
       "            --depth;\n",
       "          }\n",
       "        }\n",
       "      }\n",
       "      return inner;\n",
       "    }\n",
       "  }\n",
       "\n",
       "  function tokenString(stream, state) {\n",
       "    var escaped = false, next, end = false;\n",
       "    while ((next = stream.next()) != null) {\n",
       "      if (next=='(' && escaped) {\n",
       "        state.tokenize.push(tokenUntilClosingParen());\n",
       "        return \"string\";\n",
       "      }\n",
       "      if (next == '\"' && !escaped) {end = true; break;}\n",
       "      escaped = !escaped && next == \"\\\\\";\n",
       "    }\n",
       "    if (end || !escaped)\n",
       "      state.tokenize.pop();\n",
       "    return \"string\";\n",
       "  }\n",
       "\n",
       "  return {\n",
       "    startState: function(basecolumn) {\n",
       "      return {\n",
       "        tokenize: []\n",
       "      };\n",
       "    },\n",
       "\n",
       "    token: function(stream, state) {\n",
       "      if (stream.eatSpace()) return null;\n",
       "      var style = (state.tokenize[state.tokenize.length - 1] || tokenBase)(stream, state);\n",
       "      console.log(\"token\",style);\n",
       "      return style;\n",
       "    },\n",
       "\n",
       "    blockCommentStart: \"/*\",\n",
       "    blockCommentEnd: \"*/\",\n",
       "    lineComment: \"%\"\n",
       "  };\n",
       "});\n",
       "\n",
       "CodeMirror.defineMIME(\"text/minizinc\", \"text/minizinc\");\n",
       "\n",
       "Jupyter.CodeCell.options_default.highlight_modes['magic_text/minizinc'] = {'reg':[/^%%minizinc/]} ;\n",
       "\n",
       "Jupyter.notebook.get_cells().map(function(cell){\n",
       "  if (cell.cell_type == 'code'){ cell.auto_highlight(); }\n",
       "}) ;\n"
      ],
      "text/plain": [
       "<IPython.core.display.Javascript object>"
      ]
     },
     "metadata": {},
     "output_type": "display_data"
    },
    {
     "name": "stdout",
     "output_type": "stream",
     "text": [
      "MiniZinc to FlatZinc converter, version 2.5.5, build 273041792\r\n",
      "Copyright (C) 2014-2021 Monash University, NICTA, Data61\n"
     ]
    }
   ],
   "source": [
    "%load_ext iminizinc"
   ]
  },
  {
   "cell_type": "code",
   "execution_count": 3,
   "metadata": {},
   "outputs": [],
   "source": [
    "f = open('in.txt', 'r')\n",
    "lines = f.readlines()\n",
    "f.close()"
   ]
  },
  {
   "cell_type": "code",
   "execution_count": 4,
   "metadata": {},
   "outputs": [],
   "source": [
    "width = int(lines[0])\n",
    "n_plates = int(lines[1])"
   ]
  },
  {
   "cell_type": "code",
   "execution_count": 5,
   "metadata": {},
   "outputs": [
    {
     "data": {
      "text/plain": [
       "[[3, 3], [2, 4], [2, 8], [2, 5], [4, 7], [4, 5], [2, 4], [1, 9]]"
      ]
     },
     "execution_count": 5,
     "metadata": {},
     "output_type": "execute_result"
    }
   ],
   "source": [
    "dims = []\n",
    "for l in range(n_plates):\n",
    "    line = lines[l+2].split()\n",
    "    dims.append([int(line[0]), int(line[1])])\n",
    "dims"
   ]
  },
  {
   "cell_type": "code",
   "execution_count": 6,
   "metadata": {},
   "outputs": [],
   "source": [
    "pos = []"
   ]
  },
  {
   "cell_type": "code",
   "execution_count": 7,
   "metadata": {},
   "outputs": [],
   "source": [
    "%%minizinc -m bind\n",
    "\n",
    "include \"C:/Users/david/Documents/unibo/combinatorial_decision_making_and_optimization/zeynep_kiziltan/project/CDMO/my_cumulative.mzn\";\n",
    "\n",
    "int: n_plates;\n",
    "set of int: PLATES = 1..n_plates;\n",
    "array[PLATES,1..2] of int: dims;\n",
    "array[PLATES] of int: lengths = [dims[i,2] | i in PLATES];\n",
    "\n",
    "int: width;\n",
    "set of int: WIDTHS = 1..width;\n",
    "array[PLATES] of int: widths = [dims[i,1] | i in PLATES];\n",
    "\n",
    "int: max_length = sum(lengths);\n",
    "array[PLATES,1..2] of var 0..max_length: pos;\n",
    "array[int] of var int: x = [pos[p, 1] | p in PLATES];\n",
    "array[int] of var int: y = [pos[p, 2] | p in PLATES];\n",
    "\n",
    "var int: tot_length = max(p in PLATES)(pos[p, 1] + lengths[p]);\n",
    "\n",
    "%constraint cumulative([pos[i, 1] | i in PLATES], lengths, widths, width);\n",
    "constraint my_cumulative(n_plates, y, x, lengths, widths, width);\n",
    "\n",
    "\n",
    "solve minimize tot_length;"
   ]
  },
  {
   "cell_type": "code",
   "execution_count": 8,
   "metadata": {},
   "outputs": [],
   "source": [
    "pos = [[p[1], p[0]] for p in pos]"
   ]
  },
  {
   "cell_type": "code",
   "execution_count": 9,
   "metadata": {},
   "outputs": [
    {
     "data": {
      "text/plain": [
       "12"
      ]
     },
     "execution_count": 9,
     "metadata": {},
     "output_type": "execute_result"
    }
   ],
   "source": [
    "col_lengths = []\n",
    "for col in range(width):\n",
    "    length = 0\n",
    "    for plate in range(n_plates):\n",
    "        if pos[plate][0] <= col and pos[plate][0]+dims[plate][0] > col:\n",
    "            length += dims[plate][1]\n",
    "            \n",
    "        col_lengths.append(length)\n",
    "    \n",
    "tot_length = max(col_lengths)\n",
    "tot_length"
   ]
  },
  {
   "cell_type": "code",
   "execution_count": 10,
   "metadata": {},
   "outputs": [],
   "source": [
    "import turtle"
   ]
  },
  {
   "cell_type": "code",
   "execution_count": 11,
   "metadata": {},
   "outputs": [],
   "source": [
    "import random\n",
    "\n",
    "def change_color():\n",
    "    R = random.random()\n",
    "    B = random.random()\n",
    "    G = random.random()\n",
    "\n",
    "    turtle.color((1, 1, 1), (R, G, B))"
   ]
  },
  {
   "cell_type": "code",
   "execution_count": 12,
   "metadata": {},
   "outputs": [],
   "source": [
    "origin = (width//2, tot_length//2)\n",
    "\n",
    "for plate in range(n_plates):\n",
    "    mult = 40\n",
    "    \n",
    "    # place to bottom-left corner\n",
    "    turtle.penup()\n",
    "    new_pos = (pos[plate][0]-origin[0], pos[plate][1]-origin[1])\n",
    "    turtle.setpos(new_pos[0]*mult, new_pos[1]*mult)\n",
    "    turtle.pendown()\n",
    "    change_color()\n",
    "    \n",
    "    # set direction\n",
    "    turtle.setheading(0)\n",
    "    \n",
    "    # start filling\n",
    "    turtle.begin_fill()\n",
    "    turtle.forward(dims[plate][0]*mult)\n",
    "    turtle.setheading(90)\n",
    "    turtle.forward(dims[plate][1]*mult)\n",
    "    turtle.setheading(180)\n",
    "    turtle.forward(dims[plate][0]*mult)\n",
    "    turtle.setheading(270)\n",
    "    turtle.forward(dims[plate][1]*mult)\n",
    "    turtle.end_fill()\n",
    "    \n",
    "turtle.done()"
   ]
  },
  {
   "cell_type": "code",
   "execution_count": 13,
   "metadata": {},
   "outputs": [],
   "source": [
    "output_strings = []\n",
    "output_strings.append(str(width) + ' ' + str(tot_length))\n",
    "output_strings.append('\\n' + str(n_plates))\n",
    "for p in range(n_plates):\n",
    "    output_strings.append('\\n' + str(dims[p][0]) + ' ' + str(dims[p][1]) + ' ' + str(pos[p][0]) + ' ' + str(pos[p][1]))"
   ]
  },
  {
   "cell_type": "code",
   "execution_count": 14,
   "metadata": {},
   "outputs": [
    {
     "data": {
      "text/plain": [
       "['9 12',\n",
       " '\\n8',\n",
       " '\\n3 3 0 0',\n",
       " '\\n2 4 1 3',\n",
       " '\\n2 8 7 0',\n",
       " '\\n2 5 5 7',\n",
       " '\\n4 7 3 0',\n",
       " '\\n4 5 1 7',\n",
       " '\\n2 4 7 8',\n",
       " '\\n1 9 0 3']"
      ]
     },
     "execution_count": 14,
     "metadata": {},
     "output_type": "execute_result"
    }
   ],
   "source": [
    "output_strings"
   ]
  },
  {
   "cell_type": "code",
   "execution_count": 15,
   "metadata": {},
   "outputs": [],
   "source": [
    "# Save results\n",
    "import os\n",
    "import json\n",
    "filename = 'pos.txt'\n",
    "\n",
    "with open(filename, 'w') as file:\n",
    "    file.writelines(output_strings)"
   ]
  }
 ],
 "metadata": {
  "kernelspec": {
   "display_name": "Python 3",
   "language": "python",
   "name": "python3"
  },
  "language_info": {
   "codemirror_mode": {
    "name": "ipython",
    "version": 3
   },
   "file_extension": ".py",
   "mimetype": "text/x-python",
   "name": "python",
   "nbconvert_exporter": "python",
   "pygments_lexer": "ipython3",
   "version": "3.8.5"
  }
 },
 "nbformat": 4,
 "nbformat_minor": 4
}
