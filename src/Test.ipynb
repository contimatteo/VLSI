{
 "cells": [
  {
   "cell_type": "code",
   "execution_count": 1,
   "id": "a039798c",
   "metadata": {},
   "outputs": [],
   "source": [
    "import pandas as pd\n",
    "import os\n",
    "import json\n",
    "from IPython.display import clear_output\n",
    "from matplotlib import pyplot as plt\n",
    "import numpy as np"
   ]
  },
  {
   "cell_type": "code",
   "execution_count": 2,
   "id": "f6947e50",
   "metadata": {},
   "outputs": [],
   "source": [
    "def jsonRead(file_name):\n",
    "    # Opening JSON file\n",
    "    f = open(file_name)\n",
    "\n",
    "    # returns JSON object as a dictionary\n",
    "    data = json.load(f)\n",
    "    return data"
   ]
  },
  {
   "cell_type": "code",
   "execution_count": 3,
   "id": "28a8ccda",
   "metadata": {},
   "outputs": [],
   "source": [
    "# seconds\n",
    "time = 300\n",
    "possible_strategies = ['CP', 'SAT', 'SMT']\n",
    "strategy = 'SMT' # 'CP' | 'SAT' | 'SMT'\n",
    "\n",
    "ins_test_idxs = range(1,41)\n",
    "ins_test_idxs\n",
    "\n",
    "csv_folder = os.path.join(\"csv_test\")\n",
    "plots_folder = os.path.join(csv_folder, \"plots\")\n",
    "if not os.path.exists(csv_folder):\n",
    "    os.makedirs(plots_folder)"
   ]
  },
  {
   "cell_type": "code",
   "execution_count": 4,
   "id": "ad2f52d8",
   "metadata": {},
   "outputs": [],
   "source": [
    "def get_df(**args_dict):\n",
    "    \n",
    "    ###  path for out folder\n",
    "    out_folder = os.path.join(args_dict['strategy'], 'out', model, args_dict.get('search', 'linear'))\n",
    "    if strategy in ['SAT', 'SMT']:\n",
    "        if args_dict.get('symmetry', False): out_folder = os.path.join(out_folder, 'symmetry')\n",
    "        if args_dict.get('cumulative', False): out_folder = os.path.join(out_folder, 'cumulative')\n",
    "            \n",
    "    ###  structure of dataframe\n",
    "    results = {\n",
    "        \"file\":[],\n",
    "        \"makespan\":[],\n",
    "        \"TOTAL_TIME\":[],\n",
    "        # \"propagations\":[],\n",
    "        # \"failures\":[]\n",
    "    }\n",
    "    ### move out of src\n",
    "    os.system('cd ..')\n",
    "    ###  iterate over all the test ins\n",
    "    for i in ins_test_idxs:\n",
    "        file_in = \"ins-\"+str(i)\n",
    "        \n",
    "        ###  define script string \n",
    "        script_str = 'python '+strategy + '.py --model \"' + model + '\" --data \"' + file_in + \\\n",
    "                        '\" --time ' + str(args_dict.get('time', 300)) + \\\n",
    "                        ' --search \"' + args_dict.get('search', 'linear')+'\"'\n",
    "        \n",
    "        if args_dict.get('symmetry', False):\n",
    "            script_str += ' --symmetry'\n",
    "        if args_dict.get('cumulative', False):\n",
    "            script_str += ' --cumulative'\n",
    "            \n",
    "        ###  run \n",
    "        os.system(script_str)\n",
    "        \n",
    "        file_out_path = os.path.join(out_folder, file_in+'.json')\n",
    "        file_out = jsonRead(file_out_path)\n",
    "        \n",
    "        results['TOTAL_TIME'].append(file_out['TOTAL_TIME'])\n",
    "        results['file'].append(file_in)\n",
    "        results['makespan'].append(file_out['makespan'])\n",
    "        print(file_in)\n",
    "        print('time: {:.2f}'.format(file_out['TOTAL_TIME']))\n",
    "\n",
    "    # clear the cell output\n",
    "    clear_output(wait=True)\n",
    "    return pd.DataFrame(data=results)"
   ]
  },
  {
   "cell_type": "code",
   "execution_count": 5,
   "id": "8e828e40",
   "metadata": {},
   "outputs": [],
   "source": [
    "def compare(strategy, df1, df2, ft, idf1, idf2):\n",
    "    idf1 += ' '\n",
    "    idf2 += ' '\n",
    "    df = pd.concat([df1, df2], axis=1)\n",
    "    df.columns = [*[idf1+f for f in df1.columns], *[idf2+f for f in df2.columns]]\n",
    "    df.index = [ins[:-5] for ins in df[idf1+'file']]\n",
    "    ax = df[[idf1+ft, idf2+ft]].plot.bar()\n",
    "    ax.set_yscale(\"log\")\n",
    "    ax.set_xlabel(\"data ins\")\n",
    "    ax.set_ylabel(ft)\n",
    "    ax.legend([idf1, idf2])\n",
    "    ax.grid(True, axis='y')\n",
    "    ax.set_title(ft, fontweight=\"bold\")\n",
    "    ax.set_facecolor(\"white\")\n",
    "    plt.savefig(os.path.join(plots_folder,\n",
    "                             strategy+'_'+idf1 + \"_\" + idf2 + \"_\" + ft + \".png\"))"
   ]
  },
  {
   "cell_type": "markdown",
   "id": "5fd009c6",
   "metadata": {},
   "source": [
    "## Base vs Rotation"
   ]
  },
  {
   "cell_type": "code",
   "execution_count": 6,
   "id": "10dc4f8c",
   "metadata": {
    "scrolled": true
   },
   "outputs": [
    {
     "name": "stdout",
     "output_type": "stream",
     "text": [
      "complete!\n"
     ]
    }
   ],
   "source": [
    "model = 'base'\n",
    "df_base = get_df(\n",
    "    strategy = strategy, \n",
    "    model    = model\n",
    ")\n",
    "df_base.to_csv(os.path.join(csv_folder,\n",
    "                               \"df_\"+strategy+\"_\"+model+'.csv'), \n",
    "                  index=False)\n",
    "print(\"complete!\")"
   ]
  },
  {
   "cell_type": "code",
   "execution_count": 7,
   "id": "47e0e713",
   "metadata": {
    "scrolled": true
   },
   "outputs": [
    {
     "name": "stdout",
     "output_type": "stream",
     "text": [
      "complete!\n"
     ]
    }
   ],
   "source": [
    "model = 'rotation'\n",
    "df_rotation = get_df(\n",
    "    strategy = strategy, \n",
    "    model    = model\n",
    ")\n",
    "df_rotation.to_csv(os.path.join(csv_folder,\n",
    "                               \"df_\"+strategy+\"_\"+model+'.csv'), \n",
    "                  index=False)\n",
    "print(\"complete!\")"
   ]
  },
  {
   "cell_type": "code",
   "execution_count": 8,
   "id": "06dad3ab",
   "metadata": {},
   "outputs": [
    {
     "data": {
      "image/png": "[encoded data removed]",
      "text/plain": [
       "<Figure size 432x288 with 1 Axes>"
      ]
     },
     "metadata": {
      "needs_background": "light"
     },
     "output_type": "display_data"
    }
   ],
   "source": [
    "compare(strategy, df_base, df_rotation, 'TOTAL_TIME', 'base', 'rotation')"
   ]
  },
  {
   "cell_type": "markdown",
   "id": "8fbb7fa4",
   "metadata": {},
   "source": [
    "## Base vs symmetry"
   ]
  },
  {
   "cell_type": "code",
   "execution_count": 10,
   "id": "ff8ec281",
   "metadata": {
    "scrolled": true
   },
   "outputs": [
    {
     "name": "stdout",
     "output_type": "stream",
     "text": [
      "complete!\n"
     ]
    }
   ],
   "source": [
    "model = 'base'\n",
    "df_sym = get_df(\n",
    "    strategy = strategy, \n",
    "    model    = model, \n",
    "    symmetry = True\n",
    ")\n",
    "df_sym.to_csv(os.path.join(csv_folder,\n",
    "                             \"df_\"+strategy+\"_\"+model+'_symmetry.csv'), \n",
    "                 index=False)\n",
    "print(\"complete!\")"
   ]
  },
  {
   "cell_type": "code",
   "execution_count": 11,
   "id": "b7127cc1",
   "metadata": {
    "scrolled": true
   },
   "outputs": [
    {
     "data": {
      "image/png": "[encoded data removed]",
      "text/plain": [
       "<Figure size 432x288 with 1 Axes>"
      ]
     },
     "metadata": {
      "needs_background": "light"
     },
     "output_type": "display_data"
    }
   ],
   "source": [
    "compare(strategy, df_base, df_sym, 'TOTAL_TIME', 'base', 'symmetry')"
   ]
  },
  {
   "cell_type": "markdown",
   "id": "f0cd44e8",
   "metadata": {},
   "source": [
    "## Linear Search vs Binary Search"
   ]
  },
  {
   "cell_type": "code",
   "execution_count": 12,
   "id": "5f55770d",
   "metadata": {
    "scrolled": true
   },
   "outputs": [
    {
     "name": "stdout",
     "output_type": "stream",
     "text": [
      "complete!\n"
     ]
    }
   ],
   "source": [
    "df_binary = get_df(\n",
    "    strategy = strategy, \n",
    "    model    = model, \n",
    "    search   = 'binary'\n",
    ")\n",
    "df_binary.to_csv(os.path.join(csv_folder,\n",
    "                             \"df_\"+strategy+\"_\"+model+'_binary.csv'), \n",
    "                 index=False)\n",
    "print(\"complete!\")"
   ]
  },
  {
   "cell_type": "code",
   "execution_count": 13,
   "id": "7dd3a60f",
   "metadata": {},
   "outputs": [
    {
     "data": {
      "image/png": "[encoded data removed]",
      "text/plain": [
       "<Figure size 432x288 with 1 Axes>"
      ]
     },
     "metadata": {
      "needs_background": "light"
     },
     "output_type": "display_data"
    }
   ],
   "source": [
    "compare(strategy, df_base, df_binary, 'TOTAL_TIME', 'Linear', 'Binary')"
   ]
  },
  {
   "cell_type": "markdown",
   "id": "13af87c4",
   "metadata": {},
   "source": [
    "## Base vs Cumulative"
   ]
  },
  {
   "cell_type": "code",
   "execution_count": 14,
   "id": "a8f89d54",
   "metadata": {
    "scrolled": true
   },
   "outputs": [
    {
     "name": "stdout",
     "output_type": "stream",
     "text": [
      "complete!\n"
     ]
    }
   ],
   "source": [
    "df_binary = get_df(\n",
    "    strategy   = strategy, \n",
    "    model      = model, \n",
    "    cumulative = True\n",
    ")\n",
    "df_binary.to_csv(os.path.join(csv_folder,\n",
    "                             \"df_\"+strategy+\"_\"+model+'_cumulative.csv'), \n",
    "                 index=False)\n",
    "print(\"complete!\")"
   ]
  },
  {
   "cell_type": "code",
   "execution_count": 15,
   "id": "9c8a687b",
   "metadata": {},
   "outputs": [
    {
     "data": {
      "image/png": "[encoded data removed]",
      "text/plain": [
       "<Figure size 432x288 with 1 Axes>"
      ]
     },
     "metadata": {
      "needs_background": "light"
     },
     "output_type": "display_data"
    }
   ],
   "source": [
    "compare(strategy, df_base, df_binary, 'TOTAL_TIME', 'Base', 'Cumulative')"
   ]
  },
  {
   "cell_type": "code",
   "execution_count": null,
   "id": "d3454512",
   "metadata": {},
   "outputs": [],
   "source": [
    "# os.system('shutdown /h')"
   ]
  }
 ],
 "metadata": {
  "kernelspec": {
   "display_name": "Python 3",
   "language": "python",
   "name": "python3"
  },
  "language_info": {
   "codemirror_mode": {
    "name": "ipython",
    "version": 3
   },
   "file_extension": ".py",
   "mimetype": "text/x-python",
   "name": "python",
   "nbconvert_exporter": "python",
   "pygments_lexer": "ipython3",
   "version": "3.8.8"
  },
  "vscode": {
   "interpreter": {
    "hash": "7f02a02bfa0c0e6f07d50e632141600c313ecac4855ab54d1b9de595f2206ef8"
   }
  }
 },
 "nbformat": 4,
 "nbformat_minor": 5
}
