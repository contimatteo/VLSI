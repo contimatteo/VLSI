{
 "cells": [
  {
   "cell_type": "code",
   "execution_count": 1,
   "id": "a039798c",
   "metadata": {},
   "outputs": [],
   "source": [
    "import pandas as pd\n",
    "import os\n",
    "import json\n",
    "from IPython.display import clear_output\n",
    "from matplotlib import pyplot as plt\n",
    "import numpy as np"
   ]
  },
  {
   "cell_type": "code",
   "execution_count": 2,
   "id": "f6947e50",
   "metadata": {},
   "outputs": [],
   "source": [
    "def jsonRead(file_name):\n",
    "    # Opening JSON file\n",
    "    f = open(file_name)\n",
    "\n",
    "    # returns JSON object as a dictionary\n",
    "    data = json.load(f)\n",
    "    return data"
   ]
  },
  {
   "cell_type": "code",
   "execution_count": 3,
   "id": "28a8ccda",
   "metadata": {},
   "outputs": [],
   "source": [
    "# seconds\n",
    "time = 300\n",
    "# 0 -> 'CP', 1 -> 'SAT'\n",
    "strategy = 1\n",
    "\n",
    "ins_test_idxs = range(1,41)\n",
    "ins_test_idxs\n",
    "\n",
    "csv_folder = os.path.join(\"csv_test\")\n",
    "plots_folder = os.path.join(csv_folder, \"plots\")\n",
    "if not os.path.exists(csv_folder):\n",
    "    os.makedirs(plots_folder)"
   ]
  },
  {
   "cell_type": "code",
   "execution_count": 4,
   "id": "ad2f52d8",
   "metadata": {},
   "outputs": [],
   "source": [
    "def get_df(model='base', solver='Chuffed'):\n",
    "    # path for out folder\n",
    "    out_folder = os.path.join(\"CP\", \"out\", solver.lower(), model)\n",
    "    # structure of dataframe\n",
    "    results = {\n",
    "        \"file\":[],\n",
    "        # \"objective\":[],\n",
    "        # \"solveTime\":[],\n",
    "        \"totalTime\":[],\n",
    "        # \"propagations\":[],\n",
    "        # \"failures\":[]\n",
    "    }\n",
    "    # iterate over all the test ins\n",
    "    for i in ins_test_idxs:\n",
    "        file_in = \"ins-\"+str(i)\n",
    "        print(file_in)\n",
    "        # execute the script\n",
    "        if strategy == 0:\n",
    "            !python CP.py --model $model --solver $solver --data $file_in --time $time\n",
    "        elif strategy == 1:\n",
    "            !python SAT.py --model $model --data $file_in --time $time\n",
    "        else:\n",
    "            print(\"please strategy in range(0, 4)\")\n",
    "        file_in += \".json\"\n",
    "        file_out_path = os.path.join(out_folder, file_in)\n",
    "        if os.path.exists(file_out_path):\n",
    "            file_out = jsonRead(file_out_path)\n",
    "            results[\"file\"].append(file_in)\n",
    "            # results[\"objective\"].append(file_out[\"solution\"][\"makespan\"])\n",
    "            # results[\"solveTime\"].append(file_out[\"stats\"][\"solveTime\"])\n",
    "            results[\"totalTime\"].append(file_out[\"stats\"][\"TOTAL_TIME\"])\n",
    "            # results[\"propagations\"].append(file_out[\"stats\"][\"propagations\"])\n",
    "            # results[\"failures\"].append(file_out[\"stats\"][\"failures\"])\n",
    "        else:\n",
    "            results[\"file\"].append(file_in)\n",
    "            results[\"totalTime\"].append(300)\n",
    "            # results[\"objective\"].append(0)\n",
    "            # results[\"solveTime\"].append(0)\n",
    "            #results[\"optTime\"].append(0)\n",
    "            # results[\"propagations\"].append(0)\n",
    "            # results[\"failures\"].append(0)\n",
    "    # clear the cell output\n",
    "    clear_output(wait=True)\n",
    "    return pd.DataFrame(data=results)"
   ]
  },
  {
   "cell_type": "code",
   "execution_count": 5,
   "id": "8e828e40",
   "metadata": {},
   "outputs": [],
   "source": [
    "def compare(df1, df2, ft, idf1, idf2):\n",
    "    idf1 += ' '\n",
    "    idf2 += ' '\n",
    "    df = pd.concat([df1, df2], axis=1)\n",
    "    df.columns = [*[idf1+f for f in df1.columns], *[idf2+f for f in df2.columns]]\n",
    "    df.index = [ins[:-5] for ins in df[idf1+'file']]\n",
    "    ax = df[[idf1+ft, idf2+ft]].plot.bar()\n",
    "    ax.set_yscale(\"log\")\n",
    "    ax.set_xlabel(\"data ins\")\n",
    "    ax.set_ylabel(ft)\n",
    "    ax.legend([idf1, idf2])\n",
    "    ax.grid(True, axis='y')\n",
    "    ax.set_title(ft, fontweight=\"bold\")\n",
    "    ax.set_facecolor(\"white\")\n",
    "    plt.savefig(os.path.join(plots_folder,\n",
    "                             idf1 + \"_\" + idf2 + \"_\" + ft + \".png\"))"
   ]
  },
  {
   "cell_type": "markdown",
   "id": "5fd009c6",
   "metadata": {},
   "source": [
    "## base model Gecode vs Chuffed"
   ]
  },
  {
   "cell_type": "code",
   "execution_count": null,
   "id": "10dc4f8c",
   "metadata": {
    "scrolled": true
   },
   "outputs": [
    {
     "name": "stdout",
     "output_type": "stream",
     "text": [
      "ins-1\n",
      "SAT\n",
      "makespan = 8\n",
      "0\n",
      "TOTAL TIME = 0.01\n",
      "\n",
      "ins-2\n"
     ]
    }
   ],
   "source": [
    "model  = 'base'\n",
    "# solver = 'Chuffed'\n",
    "df_base = get_df(model=model)\n",
    "df_base.to_csv(os.path.join(csv_folder,\n",
    "                               \"df_\"+model+'.csv'), \n",
    "                  index=False)\n",
    "print(\"complete!\")"
   ]
  },
  {
   "cell_type": "code",
   "execution_count": null,
   "id": "47e0e713",
   "metadata": {},
   "outputs": [],
   "source": [
    "model  = 'base'\n",
    "solver = 'Gecode'\n",
    "df_base_gc = get_df(model=model, solver=solver)\n",
    "df_base_gc.to_csv(os.path.join(csv_folder,\n",
    "                               \"df_\"+model+\"_\"+solver+'.csv'), \n",
    "                  index=False)\n",
    "print(\"complete!\")"
   ]
  },
  {
   "cell_type": "code",
   "execution_count": null,
   "id": "06dad3ab",
   "metadata": {},
   "outputs": [],
   "source": [
    "compare(df_base_cf, df_base_gc, 'totalTime', 'base Chuffed', 'base Gecode')"
   ]
  },
  {
   "cell_type": "markdown",
   "id": "8fbb7fa4",
   "metadata": {},
   "source": [
    "## Chuffed solver base vs symmetry"
   ]
  },
  {
   "cell_type": "code",
   "execution_count": null,
   "id": "ff8ec281",
   "metadata": {},
   "outputs": [],
   "source": [
    "model  = 'symmetry'\n",
    "solver = 'Chuffed'\n",
    "df_sym_cf = get_df(model=model, solver=solver)\n",
    "df_sym_cf.to_csv(os.path.join(csv_folder,\n",
    "                             \"df_\"+model+\"_\"+solver+'.csv'), \n",
    "                 index=False)\n",
    "print(\"complete!\")"
   ]
  },
  {
   "cell_type": "code",
   "execution_count": null,
   "id": "b7127cc1",
   "metadata": {},
   "outputs": [],
   "source": [
    "compare(df_base_cf, df_sym_cf, 'totalTime', 'base Chuffed', 'symmetry Chuffed')"
   ]
  },
  {
   "cell_type": "markdown",
   "id": "f0cd44e8",
   "metadata": {},
   "source": [
    "## Chuffed solver base vs rotation"
   ]
  },
  {
   "cell_type": "code",
   "execution_count": null,
   "id": "5f55770d",
   "metadata": {},
   "outputs": [],
   "source": [
    "model  = 'rotation'\n",
    "solver = 'Chuffed'\n",
    "df_rot_cf = get_df(model=model, solver=solver)\n",
    "df_rot_cf.to_csv(os.path.join(csv_folder,\n",
    "                             \"df_\"+model+\"_\"+solver+'.csv'), \n",
    "                 index=False)\n",
    "print(\"complete!\")"
   ]
  },
  {
   "cell_type": "code",
   "execution_count": null,
   "id": "7dd3a60f",
   "metadata": {},
   "outputs": [],
   "source": [
    "compare(df_base_cf, df_rot_cf, 'totalTime', 'base Chuffed', 'rotation Chuffed')"
   ]
  },
  {
   "cell_type": "markdown",
   "id": "b3fe1da6",
   "metadata": {},
   "source": [
    "## Chuffed solver base vs search"
   ]
  },
  {
   "cell_type": "code",
   "execution_count": null,
   "id": "fe288259",
   "metadata": {},
   "outputs": [],
   "source": [
    "model  = 'search'\n",
    "solver = 'Chuffed'\n",
    "df_search_cf = get_df(model=model, solver=solver)\n",
    "df_search_cf.to_csv(os.path.join(csv_folder,\n",
    "                                 \"df_\"+model+\"_\"+solver+'.csv'), \n",
    "                 index=False)\n",
    "print(\"complete!\")"
   ]
  },
  {
   "cell_type": "code",
   "execution_count": null,
   "id": "6dce4f8d",
   "metadata": {},
   "outputs": [],
   "source": [
    "compare(df_base_cf, df_search_cf, 'totalTime', 'base Chuffed', 'search Chuffed')"
   ]
  }
 ],
 "metadata": {
  "kernelspec": {
   "display_name": "Python 3",
   "language": "python",
   "name": "python3"
  },
  "language_info": {
   "codemirror_mode": {
    "name": "ipython",
    "version": 3
   },
   "file_extension": ".py",
   "mimetype": "text/x-python",
   "name": "python",
   "nbconvert_exporter": "python",
   "pygments_lexer": "ipython3",
   "version": "3.8.8"
  },
  "vscode": {
   "interpreter": {
    "hash": "ce688466cd6bdf3e9591a5794bb8756bfcb70ab97cc69f5c3c8eb34b55c2e12b"
   }
  }
 },
 "nbformat": 4,
 "nbformat_minor": 5
}
