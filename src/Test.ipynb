{
 "cells": [
  {
   "cell_type": "code",
   "execution_count": 1,
   "id": "a039798c",
   "metadata": {},
   "outputs": [],
   "source": [
    "import pandas as pd\n",
    "import os\n",
    "import json\n",
    "from IPython.display import clear_output\n",
    "from matplotlib import pyplot as plt\n",
    "import numpy as np"
   ]
  },
  {
   "cell_type": "code",
   "execution_count": 2,
   "id": "f6947e50",
   "metadata": {},
   "outputs": [],
   "source": [
    "def jsonRead(file_name):\n",
    "    # Opening JSON file\n",
    "    f = open(file_name)\n",
    "\n",
    "    # returns JSON object as a dictionary\n",
    "    data = json.load(f)\n",
    "    return data"
   ]
  },
  {
   "cell_type": "code",
   "execution_count": 4,
   "id": "28a8ccda",
   "metadata": {},
   "outputs": [],
   "source": [
    "# seconds\n",
    "time = 300\n",
    "# 0 -> 'CP', 1 -> 'SAT'\n",
    "strategy = 1\n",
    "\n",
    "ins_test_idxs = range(1,41)\n",
    "ins_test_idxs\n",
    "\n",
    "csv_folder = os.path.join(\"csv_test\")\n",
    "plots_folder = os.path.join(csv_folder, \"plots\")\n",
    "if not os.path.exists(csv_folder):\n",
    "    os.makedirs(plots_folder)"
   ]
  },
  {
   "cell_type": "code",
   "execution_count": 12,
   "id": "ad2f52d8",
   "metadata": {},
   "outputs": [],
   "source": [
    "def get_df(model='base', solver='Chuffed'):\n",
    "    # path for out folder\n",
    "    out_folder = os.path.join(\"CP\", \"out\", solver.lower(), model)\n",
    "    # structure of dataframe\n",
    "    results = {\n",
    "        \"file\":[],\n",
    "        # \"objective\":[],\n",
    "        # \"solveTime\":[],\n",
    "        \"totalTime\":[],\n",
    "        # \"propagations\":[],\n",
    "        # \"failures\":[]\n",
    "    }\n",
    "    # iterate over all the test ins\n",
    "    for i in ins_test_idxs:\n",
    "        file_in = \"ins-\"+str(i)\n",
    "        # execute the script\n",
    "        if strategy == 0:\n",
    "            !python3 CP.py --model $model --solver $solver --data $file_in --time $time\n",
    "        elif strategy == 1:\n",
    "            !python3 SAT.py --model $model --data $file_in --time $time\n",
    "        else:\n",
    "            print(\"please strategy in range(0, 4)\")\n",
    "        file_in += \".json\"\n",
    "        file_out_path = os.path.join(out_folder, file_in)\n",
    "        if os.path.exists(file_out_path):\n",
    "            file_out = jsonRead(file_out_path)\n",
    "            results[\"file\"].append(file_in)\n",
    "            results[\"objective\"].append(file_out[\"solution\"][\"makespan\"])\n",
    "            # results[\"solveTime\"].append(file_out[\"stats\"][\"solveTime\"])\n",
    "            results[\"totalTime\"].append(file_out[\"stats\"][\"TOTAL_TIME\"])\n",
    "            # results[\"propagations\"].append(file_out[\"stats\"][\"propagations\"])\n",
    "            # results[\"failures\"].append(file_out[\"stats\"][\"failures\"])\n",
    "        else:\n",
    "            results[\"file\"].append(file_in)\n",
    "            results[\"objective\"].append(0)\n",
    "            results[\"solveTime\"].append(0)\n",
    "            #results[\"optTime\"].append(0)\n",
    "            results[\"propagations\"].append(0)\n",
    "            results[\"failures\"].append(0)\n",
    "    # clear the cell output\n",
    "    clear_output(wait=True)\n",
    "    return pd.DataFrame(data=results)"
   ]
  },
  {
   "cell_type": "code",
   "execution_count": 15,
   "id": "8e828e40",
   "metadata": {},
   "outputs": [],
   "source": [
    "def compare(df1, df2, ft, idf1, idf2):\n",
    "    idf1 += ' '\n",
    "    idf2 += ' '\n",
    "    df = pd.concat([df1, df2], axis=1)\n",
    "    df.columns = [*[idf1+f for f in df1.columns], *[idf2+f for f in df2.columns]]\n",
    "    df.index = [ins[:-5] for ins in df[idf1+'file']]\n",
    "    ax = df[[idf1+ft, idf2+ft]].plot.bar()\n",
    "    ax.set_yscale(\"log\")\n",
    "    ax.set_xlabel(\"data ins\")\n",
    "    ax.set_ylabel(ft)\n",
    "    ax.legend([idf1, idf2])\n",
    "    ax.grid(True, axis='y')\n",
    "    ax.set_title(ft, fontweight=\"bold\")\n",
    "    ax.set_facecolor(\"white\")\n",
    "    plt.savefig(os.path.join(plots_folder,\n",
    "                             idf1 + \"_\" + idf2 + \"_\" + ft + \".png\"))"
   ]
  },
  {
   "cell_type": "markdown",
   "id": "5fd009c6",
   "metadata": {},
   "source": [
    "## base model Gecode vs Chuffed"
   ]
  },
  {
   "cell_type": "code",
   "execution_count": 16,
   "id": "10dc4f8c",
   "metadata": {},
   "outputs": [
    {
     "ename": "ValueError",
     "evalue": "All arrays must be of the same length",
     "output_type": "error",
     "traceback": [
      "\u001b[0;31m---------------------------------------------------------------------------\u001b[0m",
      "\u001b[0;31mValueError\u001b[0m                                Traceback (most recent call last)",
      "Input \u001b[0;32mIn [16]\u001b[0m, in \u001b[0;36m<cell line: 3>\u001b[0;34m()\u001b[0m\n\u001b[1;32m      1\u001b[0m model  \u001b[38;5;241m=\u001b[39m \u001b[38;5;124m'\u001b[39m\u001b[38;5;124mbase\u001b[39m\u001b[38;5;124m'\u001b[39m\n\u001b[1;32m      2\u001b[0m solver \u001b[38;5;241m=\u001b[39m \u001b[38;5;124m'\u001b[39m\u001b[38;5;124mChuffed\u001b[39m\u001b[38;5;124m'\u001b[39m\n\u001b[0;32m----> 3\u001b[0m df_base_cf \u001b[38;5;241m=\u001b[39m \u001b[43mget_df\u001b[49m\u001b[43m(\u001b[49m\u001b[43mmodel\u001b[49m\u001b[38;5;241;43m=\u001b[39;49m\u001b[43mmodel\u001b[49m\u001b[43m,\u001b[49m\u001b[43m \u001b[49m\u001b[43msolver\u001b[49m\u001b[38;5;241;43m=\u001b[39;49m\u001b[43msolver\u001b[49m\u001b[43m)\u001b[49m\n\u001b[1;32m      4\u001b[0m df_base_cf\u001b[38;5;241m.\u001b[39mto_csv(os\u001b[38;5;241m.\u001b[39mpath\u001b[38;5;241m.\u001b[39mjoin(csv_folder,\n\u001b[1;32m      5\u001b[0m                                \u001b[38;5;124m\"\u001b[39m\u001b[38;5;124mdf_\u001b[39m\u001b[38;5;124m\"\u001b[39m\u001b[38;5;241m+\u001b[39mmodel\u001b[38;5;241m+\u001b[39m\u001b[38;5;124m\"\u001b[39m\u001b[38;5;124m_\u001b[39m\u001b[38;5;124m\"\u001b[39m\u001b[38;5;241m+\u001b[39msolver\u001b[38;5;241m+\u001b[39m\u001b[38;5;124m'\u001b[39m\u001b[38;5;124m.csv\u001b[39m\u001b[38;5;124m'\u001b[39m), \n\u001b[1;32m      6\u001b[0m                   index\u001b[38;5;241m=\u001b[39m\u001b[38;5;28;01mFalse\u001b[39;00m)\n\u001b[1;32m      7\u001b[0m \u001b[38;5;28mprint\u001b[39m(\u001b[38;5;124m\"\u001b[39m\u001b[38;5;124mcomplete!\u001b[39m\u001b[38;5;124m\"\u001b[39m)\n",
      "Input \u001b[0;32mIn [12]\u001b[0m, in \u001b[0;36mget_df\u001b[0;34m(model, solver)\u001b[0m\n\u001b[1;32m     35\u001b[0m \u001b[38;5;66;03m# clear the cell output\u001b[39;00m\n\u001b[1;32m     36\u001b[0m clear_output(wait\u001b[38;5;241m=\u001b[39m\u001b[38;5;28;01mTrue\u001b[39;00m)\n\u001b[0;32m---> 37\u001b[0m \u001b[38;5;28;01mreturn\u001b[39;00m \u001b[43mpd\u001b[49m\u001b[38;5;241;43m.\u001b[39;49m\u001b[43mDataFrame\u001b[49m\u001b[43m(\u001b[49m\u001b[43mdata\u001b[49m\u001b[38;5;241;43m=\u001b[39;49m\u001b[43mresults\u001b[49m\u001b[43m)\u001b[49m\n",
      "File \u001b[0;32m~/.local/lib/python3.8/site-packages/pandas/core/frame.py:636\u001b[0m, in \u001b[0;36mDataFrame.__init__\u001b[0;34m(self, data, index, columns, dtype, copy)\u001b[0m\n\u001b[1;32m    630\u001b[0m     mgr \u001b[38;5;241m=\u001b[39m \u001b[38;5;28mself\u001b[39m\u001b[38;5;241m.\u001b[39m_init_mgr(\n\u001b[1;32m    631\u001b[0m         data, axes\u001b[38;5;241m=\u001b[39m{\u001b[38;5;124m\"\u001b[39m\u001b[38;5;124mindex\u001b[39m\u001b[38;5;124m\"\u001b[39m: index, \u001b[38;5;124m\"\u001b[39m\u001b[38;5;124mcolumns\u001b[39m\u001b[38;5;124m\"\u001b[39m: columns}, dtype\u001b[38;5;241m=\u001b[39mdtype, copy\u001b[38;5;241m=\u001b[39mcopy\n\u001b[1;32m    632\u001b[0m     )\n\u001b[1;32m    634\u001b[0m \u001b[38;5;28;01melif\u001b[39;00m \u001b[38;5;28misinstance\u001b[39m(data, \u001b[38;5;28mdict\u001b[39m):\n\u001b[1;32m    635\u001b[0m     \u001b[38;5;66;03m# GH#38939 de facto copy defaults to False only in non-dict cases\u001b[39;00m\n\u001b[0;32m--> 636\u001b[0m     mgr \u001b[38;5;241m=\u001b[39m \u001b[43mdict_to_mgr\u001b[49m\u001b[43m(\u001b[49m\u001b[43mdata\u001b[49m\u001b[43m,\u001b[49m\u001b[43m \u001b[49m\u001b[43mindex\u001b[49m\u001b[43m,\u001b[49m\u001b[43m \u001b[49m\u001b[43mcolumns\u001b[49m\u001b[43m,\u001b[49m\u001b[43m \u001b[49m\u001b[43mdtype\u001b[49m\u001b[38;5;241;43m=\u001b[39;49m\u001b[43mdtype\u001b[49m\u001b[43m,\u001b[49m\u001b[43m \u001b[49m\u001b[43mcopy\u001b[49m\u001b[38;5;241;43m=\u001b[39;49m\u001b[43mcopy\u001b[49m\u001b[43m,\u001b[49m\u001b[43m \u001b[49m\u001b[43mtyp\u001b[49m\u001b[38;5;241;43m=\u001b[39;49m\u001b[43mmanager\u001b[49m\u001b[43m)\u001b[49m\n\u001b[1;32m    637\u001b[0m \u001b[38;5;28;01melif\u001b[39;00m \u001b[38;5;28misinstance\u001b[39m(data, ma\u001b[38;5;241m.\u001b[39mMaskedArray):\n\u001b[1;32m    638\u001b[0m     \u001b[38;5;28;01mimport\u001b[39;00m \u001b[38;5;21;01mnumpy\u001b[39;00m\u001b[38;5;21;01m.\u001b[39;00m\u001b[38;5;21;01mma\u001b[39;00m\u001b[38;5;21;01m.\u001b[39;00m\u001b[38;5;21;01mmrecords\u001b[39;00m \u001b[38;5;28;01mas\u001b[39;00m \u001b[38;5;21;01mmrecords\u001b[39;00m\n",
      "File \u001b[0;32m~/.local/lib/python3.8/site-packages/pandas/core/internals/construction.py:502\u001b[0m, in \u001b[0;36mdict_to_mgr\u001b[0;34m(data, index, columns, dtype, typ, copy)\u001b[0m\n\u001b[1;32m    494\u001b[0m     arrays \u001b[38;5;241m=\u001b[39m [\n\u001b[1;32m    495\u001b[0m         x\n\u001b[1;32m    496\u001b[0m         \u001b[38;5;28;01mif\u001b[39;00m \u001b[38;5;129;01mnot\u001b[39;00m \u001b[38;5;28mhasattr\u001b[39m(x, \u001b[38;5;124m\"\u001b[39m\u001b[38;5;124mdtype\u001b[39m\u001b[38;5;124m\"\u001b[39m) \u001b[38;5;129;01mor\u001b[39;00m \u001b[38;5;129;01mnot\u001b[39;00m \u001b[38;5;28misinstance\u001b[39m(x\u001b[38;5;241m.\u001b[39mdtype, ExtensionDtype)\n\u001b[1;32m    497\u001b[0m         \u001b[38;5;28;01melse\u001b[39;00m x\u001b[38;5;241m.\u001b[39mcopy()\n\u001b[1;32m    498\u001b[0m         \u001b[38;5;28;01mfor\u001b[39;00m x \u001b[38;5;129;01min\u001b[39;00m arrays\n\u001b[1;32m    499\u001b[0m     ]\n\u001b[1;32m    500\u001b[0m     \u001b[38;5;66;03m# TODO: can we get rid of the dt64tz special case above?\u001b[39;00m\n\u001b[0;32m--> 502\u001b[0m \u001b[38;5;28;01mreturn\u001b[39;00m \u001b[43marrays_to_mgr\u001b[49m\u001b[43m(\u001b[49m\u001b[43marrays\u001b[49m\u001b[43m,\u001b[49m\u001b[43m \u001b[49m\u001b[43mcolumns\u001b[49m\u001b[43m,\u001b[49m\u001b[43m \u001b[49m\u001b[43mindex\u001b[49m\u001b[43m,\u001b[49m\u001b[43m \u001b[49m\u001b[43mdtype\u001b[49m\u001b[38;5;241;43m=\u001b[39;49m\u001b[43mdtype\u001b[49m\u001b[43m,\u001b[49m\u001b[43m \u001b[49m\u001b[43mtyp\u001b[49m\u001b[38;5;241;43m=\u001b[39;49m\u001b[43mtyp\u001b[49m\u001b[43m,\u001b[49m\u001b[43m \u001b[49m\u001b[43mconsolidate\u001b[49m\u001b[38;5;241;43m=\u001b[39;49m\u001b[43mcopy\u001b[49m\u001b[43m)\u001b[49m\n",
      "File \u001b[0;32m~/.local/lib/python3.8/site-packages/pandas/core/internals/construction.py:120\u001b[0m, in \u001b[0;36marrays_to_mgr\u001b[0;34m(arrays, columns, index, dtype, verify_integrity, typ, consolidate)\u001b[0m\n\u001b[1;32m    117\u001b[0m \u001b[38;5;28;01mif\u001b[39;00m verify_integrity:\n\u001b[1;32m    118\u001b[0m     \u001b[38;5;66;03m# figure out the index, if necessary\u001b[39;00m\n\u001b[1;32m    119\u001b[0m     \u001b[38;5;28;01mif\u001b[39;00m index \u001b[38;5;129;01mis\u001b[39;00m \u001b[38;5;28;01mNone\u001b[39;00m:\n\u001b[0;32m--> 120\u001b[0m         index \u001b[38;5;241m=\u001b[39m \u001b[43m_extract_index\u001b[49m\u001b[43m(\u001b[49m\u001b[43marrays\u001b[49m\u001b[43m)\u001b[49m\n\u001b[1;32m    121\u001b[0m     \u001b[38;5;28;01melse\u001b[39;00m:\n\u001b[1;32m    122\u001b[0m         index \u001b[38;5;241m=\u001b[39m ensure_index(index)\n",
      "File \u001b[0;32m~/.local/lib/python3.8/site-packages/pandas/core/internals/construction.py:674\u001b[0m, in \u001b[0;36m_extract_index\u001b[0;34m(data)\u001b[0m\n\u001b[1;32m    672\u001b[0m lengths \u001b[38;5;241m=\u001b[39m \u001b[38;5;28mlist\u001b[39m(\u001b[38;5;28mset\u001b[39m(raw_lengths))\n\u001b[1;32m    673\u001b[0m \u001b[38;5;28;01mif\u001b[39;00m \u001b[38;5;28mlen\u001b[39m(lengths) \u001b[38;5;241m>\u001b[39m \u001b[38;5;241m1\u001b[39m:\n\u001b[0;32m--> 674\u001b[0m     \u001b[38;5;28;01mraise\u001b[39;00m \u001b[38;5;167;01mValueError\u001b[39;00m(\u001b[38;5;124m\"\u001b[39m\u001b[38;5;124mAll arrays must be of the same length\u001b[39m\u001b[38;5;124m\"\u001b[39m)\n\u001b[1;32m    676\u001b[0m \u001b[38;5;28;01mif\u001b[39;00m have_dicts:\n\u001b[1;32m    677\u001b[0m     \u001b[38;5;28;01mraise\u001b[39;00m \u001b[38;5;167;01mValueError\u001b[39;00m(\n\u001b[1;32m    678\u001b[0m         \u001b[38;5;124m\"\u001b[39m\u001b[38;5;124mMixing dicts with non-Series may lead to ambiguous ordering.\u001b[39m\u001b[38;5;124m\"\u001b[39m\n\u001b[1;32m    679\u001b[0m     )\n",
      "\u001b[0;31mValueError\u001b[0m: All arrays must be of the same length"
     ]
    }
   ],
   "source": [
    "model  = 'base'\n",
    "solver = 'Chuffed'\n",
    "df_base_cf = get_df(model=model, solver=solver)\n",
    "df_base_cf.to_csv(os.path.join(csv_folder,\n",
    "                               \"df_\"+model+\"_\"+solver+'.csv'), \n",
    "                  index=False)\n",
    "print(\"complete!\")"
   ]
  },
  {
   "cell_type": "code",
   "execution_count": 7,
   "id": "47e0e713",
   "metadata": {},
   "outputs": [
    {
     "name": "stdout",
     "output_type": "stream",
     "text": [
      "complete!\n"
     ]
    }
   ],
   "source": [
    "model  = 'base'\n",
    "solver = 'Gecode'\n",
    "df_base_gc = get_df(model=model, solver=solver)\n",
    "df_base_gc.to_csv(os.path.join(csv_folder,\n",
    "                               \"df_\"+model+\"_\"+solver+'.csv'), \n",
    "                  index=False)\n",
    "print(\"complete!\")"
   ]
  },
  {
   "cell_type": "code",
   "execution_count": 8,
   "id": "06dad3ab",
   "metadata": {},
   "outputs": [
    {
     "data": {
      "image/png": "[encoded data removed]",
      "text/plain": [
       "<Figure size 432x288 with 1 Axes>"
      ]
     },
     "metadata": {
      "needs_background": "light"
     },
     "output_type": "display_data"
    }
   ],
   "source": [
    "compare(df_base_cf, df_base_gc, 'totalTime', 'base Chuffed', 'base Gecode')"
   ]
  },
  {
   "cell_type": "markdown",
   "id": "8fbb7fa4",
   "metadata": {},
   "source": [
    "## Chuffed solver base vs symmetry"
   ]
  },
  {
   "cell_type": "code",
   "execution_count": 9,
   "id": "ff8ec281",
   "metadata": {},
   "outputs": [
    {
     "name": "stdout",
     "output_type": "stream",
     "text": [
      "complete!\n"
     ]
    }
   ],
   "source": [
    "model  = 'symmetry'\n",
    "solver = 'Chuffed'\n",
    "df_sym_cf = get_df(model=model, solver=solver)\n",
    "df_sym_cf.to_csv(os.path.join(csv_folder,\n",
    "                             \"df_\"+model+\"_\"+solver+'.csv'), \n",
    "                 index=False)\n",
    "print(\"complete!\")"
   ]
  },
  {
   "cell_type": "code",
   "execution_count": 10,
   "id": "b7127cc1",
   "metadata": {},
   "outputs": [
    {
     "data": {
      "image/png": "[encoded data removed]",
      "text/plain": [
       "<Figure size 432x288 with 1 Axes>"
      ]
     },
     "metadata": {
      "needs_background": "light"
     },
     "output_type": "display_data"
    }
   ],
   "source": [
    "compare(df_base_cf, df_sym_cf, 'totalTime', 'base Chuffed', 'symmetry Chuffed')"
   ]
  },
  {
   "cell_type": "markdown",
   "id": "f0cd44e8",
   "metadata": {},
   "source": [
    "## Chuffed solver base vs rotation"
   ]
  },
  {
   "cell_type": "code",
   "execution_count": 11,
   "id": "5f55770d",
   "metadata": {},
   "outputs": [
    {
     "name": "stdout",
     "output_type": "stream",
     "text": [
      "complete!\n"
     ]
    }
   ],
   "source": [
    "model  = 'rotation'\n",
    "solver = 'Chuffed'\n",
    "df_rot_cf = get_df(model=model, solver=solver)\n",
    "df_rot_cf.to_csv(os.path.join(csv_folder,\n",
    "                             \"df_\"+model+\"_\"+solver+'.csv'), \n",
    "                 index=False)\n",
    "print(\"complete!\")"
   ]
  },
  {
   "cell_type": "code",
   "execution_count": 12,
   "id": "7dd3a60f",
   "metadata": {},
   "outputs": [
    {
     "data": {
      "image/png": "[encoded data removed]",
      "text/plain": [
       "<Figure size 432x288 with 1 Axes>"
      ]
     },
     "metadata": {
      "needs_background": "light"
     },
     "output_type": "display_data"
    }
   ],
   "source": [
    "compare(df_base_cf, df_rot_cf, 'totalTime', 'base Chuffed', 'rotation Chuffed')"
   ]
  },
  {
   "cell_type": "markdown",
   "id": "b3fe1da6",
   "metadata": {},
   "source": [
    "## Chuffed solver base vs search"
   ]
  },
  {
   "cell_type": "code",
   "execution_count": 13,
   "id": "fe288259",
   "metadata": {},
   "outputs": [
    {
     "name": "stdout",
     "output_type": "stream",
     "text": [
      "complete!\n"
     ]
    }
   ],
   "source": [
    "model  = 'search'\n",
    "solver = 'Chuffed'\n",
    "df_search_cf = get_df(model=model, solver=solver)\n",
    "df_search_cf.to_csv(os.path.join(csv_folder,\n",
    "                                 \"df_\"+model+\"_\"+solver+'.csv'), \n",
    "                 index=False)\n",
    "print(\"complete!\")"
   ]
  },
  {
   "cell_type": "code",
   "execution_count": 14,
   "id": "6dce4f8d",
   "metadata": {},
   "outputs": [
    {
     "data": {
      "image/png": "[encoded data removed]",
      "text/plain": [
       "<Figure size 432x288 with 1 Axes>"
      ]
     },
     "metadata": {
      "needs_background": "light"
     },
     "output_type": "display_data"
    }
   ],
   "source": [
    "compare(df_base_cf, df_search_cf, 'totalTime', 'base Chuffed', 'search Chuffed')"
   ]
  }
 ],
 "metadata": {
  "kernelspec": {
   "display_name": "Python 3.6.13 ('cdmo')",
   "language": "python",
   "name": "python3"
  },
  "language_info": {
   "codemirror_mode": {
    "name": "ipython",
    "version": 3
   },
   "file_extension": ".py",
   "mimetype": "text/x-python",
   "name": "python",
   "nbconvert_exporter": "python",
   "pygments_lexer": "ipython3",
   "version": "3.6.13"
  },
  "vscode": {
   "interpreter": {
    "hash": "ce688466cd6bdf3e9591a5794bb8756bfcb70ab97cc69f5c3c8eb34b55c2e12b"
   }
  }
 },
 "nbformat": 4,
 "nbformat_minor": 5
}
