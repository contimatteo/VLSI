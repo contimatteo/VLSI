{
 "cells": [
  {
   "cell_type": "code",
   "execution_count": 1,
   "id": "a039798c",
   "metadata": {},
   "outputs": [],
   "source": [
    "import pandas as pd\n",
    "import os\n",
    "import json\n",
    "from IPython.display import clear_output\n",
    "from matplotlib import pyplot as plt\n",
    "import numpy as np"
   ]
  },
  {
   "cell_type": "code",
   "execution_count": 2,
   "id": "f6947e50",
   "metadata": {},
   "outputs": [],
   "source": [
    "def jsonRead(file_name):\n",
    "    # Opening JSON file\n",
    "    f = open(file_name)\n",
    "\n",
    "    # returns JSON object as a dictionary\n",
    "    data = json.load(f)\n",
    "    return data"
   ]
  },
  {
   "cell_type": "code",
   "execution_count": 3,
   "id": "28a8ccda",
   "metadata": {},
   "outputs": [],
   "source": [
    "# seconds\n",
    "time = 300\n",
    "# 0 -> 'CP', 1 -> 'SAT'\n",
    "strategy = 1\n",
    "\n",
    "ins_test_idxs = range(1,41)\n",
    "ins_test_idxs\n",
    "\n",
    "csv_folder = os.path.join(\"csv_test\")\n",
    "plots_folder = os.path.join(csv_folder, \"plots\")\n",
    "if not os.path.exists(csv_folder):\n",
    "    os.makedirs(plots_folder)"
   ]
  },
  {
   "cell_type": "code",
   "execution_count": 4,
   "id": "ad2f52d8",
   "metadata": {},
   "outputs": [],
   "source": [
    "def get_df(model='base', solver='Chuffed', search='linear', symmetry=False):\n",
    "    # path for out folder\n",
    "    out_folder = os.path.join(\"CP\", \"out\", solver.lower(), model)\n",
    "    # structure of dataframe\n",
    "    results = {\n",
    "        \"file\":[],\n",
    "        # \"objective\":[],\n",
    "        # \"solveTime\":[],\n",
    "        \"totalTime\":[],\n",
    "        # \"propagations\":[],\n",
    "        # \"failures\":[]\n",
    "    }\n",
    "    # iterate over all the test ins\n",
    "    for i in ins_test_idxs:\n",
    "        file_in = \"ins-\"+str(i)\n",
    "        print(file_in)\n",
    "        # execute the script\n",
    "        if strategy == 0:\n",
    "            !python CP.py --model $model --solver $solver --data $file_in --time $time\n",
    "        elif strategy == 1:\n",
    "            if symmetry:\n",
    "                !python SAT.py --model $model --data $file_in --time $time --search $search --symmetry\n",
    "            else:\n",
    "                !python SAT.py --model $model --data $file_in --time $time --search $search\n",
    "        else:\n",
    "            print(\"please strategy in range(0, 4)\")\n",
    "        file_in += \".json\"\n",
    "        file_out_path = os.path.join(out_folder, file_in)\n",
    "        if os.path.exists(file_out_path):\n",
    "            file_out = jsonRead(file_out_path)\n",
    "            results[\"file\"].append(file_in)\n",
    "            # results[\"objective\"].append(file_out[\"solution\"][\"makespan\"])\n",
    "            # results[\"solveTime\"].append(file_out[\"stats\"][\"solveTime\"])\n",
    "            results[\"totalTime\"].append(file_out[\"stats\"][\"TOTAL_TIME\"])\n",
    "            # results[\"propagations\"].append(file_out[\"stats\"][\"propagations\"])\n",
    "            # results[\"failures\"].append(file_out[\"stats\"][\"failures\"])\n",
    "        else:\n",
    "            results[\"file\"].append(file_in)\n",
    "            results[\"totalTime\"].append(300)\n",
    "            # results[\"objective\"].append(0)\n",
    "            # results[\"solveTime\"].append(0)\n",
    "            #results[\"optTime\"].append(0)\n",
    "            # results[\"propagations\"].append(0)\n",
    "            # results[\"failures\"].append(0)\n",
    "    # clear the cell output\n",
    "    clear_output(wait=True)\n",
    "    return pd.DataFrame(data=results)"
   ]
  },
  {
   "cell_type": "code",
   "execution_count": 5,
   "id": "8e828e40",
   "metadata": {},
   "outputs": [],
   "source": [
    "def compare(df1, df2, ft, idf1, idf2):\n",
    "    idf1 += ' '\n",
    "    idf2 += ' '\n",
    "    df = pd.concat([df1, df2], axis=1)\n",
    "    df.columns = [*[idf1+f for f in df1.columns], *[idf2+f for f in df2.columns]]\n",
    "    df.index = [ins[:-5] for ins in df[idf1+'file']]\n",
    "    ax = df[[idf1+ft, idf2+ft]].plot.bar()\n",
    "    ax.set_yscale(\"log\")\n",
    "    ax.set_xlabel(\"data ins\")\n",
    "    ax.set_ylabel(ft)\n",
    "    ax.legend([idf1, idf2])\n",
    "    ax.grid(True, axis='y')\n",
    "    ax.set_title(ft, fontweight=\"bold\")\n",
    "    ax.set_facecolor(\"white\")\n",
    "    plt.savefig(os.path.join(plots_folder,\n",
    "                             idf1 + \"_\" + idf2 + \"_\" + ft + \".png\"))"
   ]
  },
  {
   "cell_type": "markdown",
   "id": "5fd009c6",
   "metadata": {},
   "source": [
    "## base model Gecode vs Chuffed"
   ]
  },
  {
   "cell_type": "code",
   "execution_count": 6,
   "id": "10dc4f8c",
   "metadata": {
    "scrolled": true
   },
   "outputs": [
    {
     "name": "stdout",
     "output_type": "stream",
     "text": [
      "complete!\n"
     ]
    }
   ],
   "source": [
    "model  = 'base'\n",
    "# solver = 'Chuffed'\n",
    "df_base = get_df(model=model)\n",
    "df_base.to_csv(os.path.join(csv_folder,\n",
    "                               \"df_\"+model+'.csv'), \n",
    "                  index=False)\n",
    "print(\"complete!\")"
   ]
  },
  {
   "cell_type": "code",
   "execution_count": 7,
   "id": "47e0e713",
   "metadata": {},
   "outputs": [
    {
     "name": "stdout",
     "output_type": "stream",
     "text": [
      "complete!\n"
     ]
    }
   ],
   "source": [
    "model  = 'rotation'\n",
    "# solver = 'Gecode'\n",
    "df_rotation = get_df(model=model)\n",
    "df_rotation.to_csv(os.path.join(csv_folder,\n",
    "                               \"df_\"+model+'.csv'), \n",
    "                  index=False)\n",
    "print(\"complete!\")"
   ]
  },
  {
   "cell_type": "code",
   "execution_count": 8,
   "id": "06dad3ab",
   "metadata": {},
   "outputs": [
    {
     "data": {
      "image/png": "[encoded data removed]",
      "text/plain": [
       "<Figure size 432x288 with 1 Axes>"
      ]
     },
     "metadata": {
      "needs_background": "light"
     },
     "output_type": "display_data"
    }
   ],
   "source": [
    "compare(df_base, df_rotation, 'totalTime', 'base', 'rotation')"
   ]
  },
  {
   "cell_type": "markdown",
   "id": "8fbb7fa4",
   "metadata": {},
   "source": [
    "## Base vs symmetry"
   ]
  },
  {
   "cell_type": "code",
   "execution_count": 9,
   "id": "ff8ec281",
   "metadata": {},
   "outputs": [
    {
     "name": "stdout",
     "output_type": "stream",
     "text": [
      "complete!\n"
     ]
    }
   ],
   "source": [
    "model  = 'base'\n",
    "#solver = 'Chuffed'\n",
    "df_sym = get_df(model=model, symmetry=True)\n",
    "df_sym.to_csv(os.path.join(csv_folder,\n",
    "                             \"df_\"+model+'_symmetry.csv'), \n",
    "                 index=False)\n",
    "print(\"complete!\")"
   ]
  },
  {
   "cell_type": "code",
   "execution_count": 10,
   "id": "b7127cc1",
   "metadata": {},
   "outputs": [
    {
     "data": {
      "image/png": "[encoded data removed]",
      "text/plain": [
       "<Figure size 432x288 with 1 Axes>"
      ]
     },
     "metadata": {
      "needs_background": "light"
     },
     "output_type": "display_data"
    }
   ],
   "source": [
    "compare(df_base, df_sym, 'totalTime', 'base', 'symmetry')"
   ]
  },
  {
   "cell_type": "markdown",
   "id": "f0cd44e8",
   "metadata": {},
   "source": [
    "## Linear search vs Binary Search"
   ]
  },
  {
   "cell_type": "code",
   "execution_count": 11,
   "id": "5f55770d",
   "metadata": {},
   "outputs": [
    {
     "name": "stdout",
     "output_type": "stream",
     "text": [
      "complete!\n"
     ]
    }
   ],
   "source": [
    "model  = 'base'\n",
    "# solver = 'Chuffed'\n",
    "df_binary = get_df(model=model, search='binary')\n",
    "df_binary.to_csv(os.path.join(csv_folder,\n",
    "                             \"df_\"+model+'_binary.csv'), \n",
    "                 index=False)\n",
    "print(\"complete!\")"
   ]
  },
  {
   "cell_type": "code",
   "execution_count": 12,
   "id": "7dd3a60f",
   "metadata": {},
   "outputs": [
    {
     "data": {
      "image/png": "[encoded data removed]",
      "text/plain": [
       "<Figure size 432x288 with 1 Axes>"
      ]
     },
     "metadata": {
      "needs_background": "light"
     },
     "output_type": "display_data"
    }
   ],
   "source": [
    "compare(df_base, df_binary, 'totalTime', 'Linear', 'Binary')"
   ]
  }
 ],
 "metadata": {
  "kernelspec": {
   "display_name": "Python 3.8.5 64-bit",
   "language": "python",
   "name": "python3"
  },
  "language_info": {
   "codemirror_mode": {
    "name": "ipython",
    "version": 3
   },
   "file_extension": ".py",
   "mimetype": "text/x-python",
   "name": "python",
   "nbconvert_exporter": "python",
   "pygments_lexer": "ipython3",
   "version": "3.8.5"
  },
  "vscode": {
   "interpreter": {
    "hash": "7f02a02bfa0c0e6f07d50e632141600c313ecac4855ab54d1b9de595f2206ef8"
   }
  }
 },
 "nbformat": 4,
 "nbformat_minor": 5
}
